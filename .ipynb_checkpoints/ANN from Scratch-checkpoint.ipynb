{
 "cells": [
  {
   "cell_type": "markdown",
   "metadata": {},
   "source": [
    "# Artificial Neural Networks"
   ]
  },
  {
   "cell_type": "markdown",
   "metadata": {},
   "source": [
    "## Introduction"
   ]
  },
  {
   "cell_type": "markdown",
   "metadata": {},
   "source": [
    "We will create an ANN in Python following OOP framework.\n",
    "This means, we will build our ANN as a class we can build objects inheriting its methods.  \n",
    "\n",
    "Remember, there is no magic, just intelligence! Read the detailed theory in this document LINKS, we will use the same notation in this notebook."
   ]
  },
  {
   "cell_type": "markdown",
   "metadata": {},
   "source": [
    "## Create Artificial Neural Network"
   ]
  },
  {
   "cell_type": "markdown",
   "metadata": {},
   "source": [
    "The ecuations we need to know behore hand can be founded in the document in this folder: ANN Equations. We will reference those equation in the code, therefore, I recommend you to split you screen and follow both together.  \n",
    "We will be following the next scheme:"
   ]
  },
  {
   "cell_type": "markdown",
   "metadata": {},
   "source": [
    "<img src=\"../Images/ANN.png\">"
   ]
  },
  {
   "cell_type": "markdown",
   "metadata": {},
   "source": [
    "### Importing Libraries"
   ]
  },
  {
   "cell_type": "code",
   "execution_count": 1,
   "metadata": {
    "collapsed": true
   },
   "outputs": [],
   "source": [
    "import numpy as np\n",
    "import pandas as pd\n",
    "from sklearn import preprocessing\n",
    "from scipy import optimize\n",
    "import matplotlib.pyplot as plt\n",
    "import time"
   ]
  },
  {
   "cell_type": "markdown",
   "metadata": {},
   "source": [
    "### Create Neural Network Class"
   ]
  },
  {
   "cell_type": "code",
   "execution_count": 2,
   "metadata": {
    "collapsed": true
   },
   "outputs": [],
   "source": [
    "class Neural_Network(object):\n",
    "    \n",
    "    def __init__(self):\n",
    "        # Define the layers we are going to have and the neurons in each layer\n",
    "        self.inputLayerSize = x_train.shape[1]\n",
    "        self.hiddenLayerSize = 3\n",
    "        self.outputLayerSize = 1 \n",
    "\n",
    "        # Weights initialization \n",
    "        self.W1 = np.random.randn(self.inputLayerSize, self.hiddenLayerSize)\n",
    "        self.W2 = np.random.randn(self.hiddenLayerSize, self.outputLayerSize)\n",
    "\n",
    "    def forward(self, X):\n",
    "        # Propagate inputs through neurons\n",
    "        self.z2 = np.dot(X, self.W1)       # Eq. 1\n",
    "        self.a2 = self.sigmoid(self.z2)    # Eq. 2\n",
    "        self.z3 = np.dot(self.a2, self.W2) # Eq. 3\n",
    "        yHat = self.sigmoid(self.z3)       # Eq. 4\n",
    "        return yHat\n",
    "\n",
    "    def sigmoid(self, z):   \n",
    "        # Sigmoid activaction function\n",
    "        return 1 / (1+np.exp(-z))\n",
    "\n",
    "    def dSigmoid(self, z):\n",
    "        # Derivative of sigmoid function\n",
    "        return np.exp(-z)/((1+np.exp(-z))**2)\n",
    "\n",
    "    ''' You can also try with different activation function and see how it performs!\n",
    "    def relu(self, z):\n",
    "        # Rectifier Linear Unit activaction funciton\n",
    "        return np.max(0, z)\n",
    "\n",
    "    def dRelu(self, z):\n",
    "        # Derivative of sigmoid function\n",
    "        if z > 0: return 1\n",
    "        else: return 0\n",
    "    '''    \n",
    "    \n",
    "    def costFunction(self, X, y):\n",
    "        # Compute the Cost Function using weights already stored in class\n",
    "        self.yHat = self.forward(X)\n",
    "        \n",
    "        J = np.sum((y - self.yHat)**2) / X.shape[0] # Eq. 6\n",
    "        return J     \n",
    "\n",
    "    def dCostFunction(self, X, y):\n",
    "        # Compute derivative with respect to W1 and W2 \n",
    "        self.yHat = self.forward(X)\n",
    "\n",
    "        delta3 = np.multiply(-(y-self.yHat), self.dSigmoid(self.z3))\n",
    "        dJdW2 = np.dot(self.a2.T, delta3) / X.shape[0] # Eq. 7\n",
    "\n",
    "        delta2 = np.dot(delta3, self.W2.T) * self.dSigmoid(self.z2)\n",
    "        dJdW1 = np.dot(X.T, delta2) / X.shape[0]    # Eq. 8\n",
    "\n",
    "        return dJdW1, dJdW2\n",
    "\n",
    "    def getWeights(self):\n",
    "        # Get W1 and W2\n",
    "        return self.W1, self.W2\n",
    "    \n",
    "    def setWeights(self, W1, W2):\n",
    "        # Update the weights W1 and W2\n",
    "        self.W1 = W1\n",
    "        self.W2 = W2\n",
    "        \n",
    "    def computeGradients(self, X, y):\n",
    "        dJdW1, dJdW2 = self.dCostFunction(X, y)\n",
    "        return dJdW1, dJdW2\n"
   ]
  },
  {
   "cell_type": "markdown",
   "metadata": {},
   "source": [
    "### Define our Training Methodology"
   ]
  },
  {
   "cell_type": "code",
   "execution_count": 3,
   "metadata": {
    "collapsed": true
   },
   "outputs": [],
   "source": [
    "class trainer(object):\n",
    "     \n",
    "    def __init__(self, N):\n",
    "        # Reference the Neural Network that will be trained:\n",
    "        self.N = N\n",
    "\n",
    "    def callbackF(self, W1, W2):\n",
    "        # Callback function to track the J as we train the NN\n",
    "        self.N.setWeights(W1, W2)                                      # Set the new parameters coming from training\n",
    "        self.J.append(self.N.costFunction(self.X, self.y))             # Insert new value of Cost to the Cost vector\n",
    "        self.testJ.append(self.N.costFunction(self.testX, self.testY)) # Insert new value of Test-Cost to the Test-Cost vector\n",
    "\n",
    "    def updateWeigths(self, W1, W2, grad1, grad2):\n",
    "        W1 = W1 - self.learning_rate * grad1\n",
    "        W2 = W2 - self.learning_rate * grad2\n",
    "        return W1, W2\n",
    "        \n",
    "    def train(self, trainX, trainY, testX, testY, epochs, learning_rate = 0.01):\n",
    "        # Make internal variables for callback function\n",
    "        self.X = trainX\n",
    "        self.y = trainY\n",
    "        self.testX = testX\n",
    "        self.testY = testY\n",
    "        self.epochs = range(epochs)\n",
    "        self.learning_rate = learning_rate\n",
    "\n",
    "        #Make empty list to store the costs:\n",
    "        self.J     = []\n",
    "        self.testJ = []\n",
    "\n",
    "        for epoch in self.epochs:\n",
    "            cost = self.N.costFunction(self.X, self.y)\n",
    "            grad1, grad2 = self.N.computeGradients(self.X, self.y)\n",
    "            W1, W2 = self.N.getWeights()\n",
    "            W1, W2 = self.updateWeigths(W1, W2, grad1, grad2)            \n",
    "            # Update the weights\n",
    "            self.N.setWeights(W1, W2)\n",
    "            self.callbackF(W1, W2)\n"
   ]
  },
  {
   "cell_type": "markdown",
   "metadata": {},
   "source": [
    "# Testing"
   ]
  },
  {
   "cell_type": "markdown",
   "metadata": {},
   "source": [
    "### Let's create our data"
   ]
  },
  {
   "cell_type": "code",
   "execution_count": 4,
   "metadata": {},
   "outputs": [
    {
     "data": {
      "text/html": [
       "<div>\n",
       "<style>\n",
       "    .dataframe thead tr:only-child th {\n",
       "        text-align: right;\n",
       "    }\n",
       "\n",
       "    .dataframe thead th {\n",
       "        text-align: left;\n",
       "    }\n",
       "\n",
       "    .dataframe tbody tr th {\n",
       "        vertical-align: top;\n",
       "    }\n",
       "</style>\n",
       "<table border=\"1\" class=\"dataframe\">\n",
       "  <thead>\n",
       "    <tr style=\"text-align: right;\">\n",
       "      <th></th>\n",
       "      <th>0</th>\n",
       "      <th>1</th>\n",
       "      <th>2</th>\n",
       "      <th>3</th>\n",
       "      <th>4</th>\n",
       "    </tr>\n",
       "  </thead>\n",
       "  <tbody>\n",
       "    <tr>\n",
       "      <th>0</th>\n",
       "      <td>0.287613</td>\n",
       "      <td>11.843398</td>\n",
       "      <td>-23.111000</td>\n",
       "      <td>-26.784964</td>\n",
       "      <td>35.887831</td>\n",
       "    </tr>\n",
       "    <tr>\n",
       "      <th>1</th>\n",
       "      <td>-12.942548</td>\n",
       "      <td>-9.288027</td>\n",
       "      <td>-29.954254</td>\n",
       "      <td>36.694911</td>\n",
       "      <td>-33.618653</td>\n",
       "    </tr>\n",
       "    <tr>\n",
       "      <th>2</th>\n",
       "      <td>-11.743498</td>\n",
       "      <td>13.198859</td>\n",
       "      <td>17.154367</td>\n",
       "      <td>-9.360629</td>\n",
       "      <td>51.557494</td>\n",
       "    </tr>\n",
       "    <tr>\n",
       "      <th>3</th>\n",
       "      <td>1.619156</td>\n",
       "      <td>-22.496186</td>\n",
       "      <td>-17.912477</td>\n",
       "      <td>36.132983</td>\n",
       "      <td>32.243452</td>\n",
       "    </tr>\n",
       "    <tr>\n",
       "      <th>4</th>\n",
       "      <td>6.606882</td>\n",
       "      <td>-22.517781</td>\n",
       "      <td>23.364357</td>\n",
       "      <td>-3.593449</td>\n",
       "      <td>-24.734984</td>\n",
       "    </tr>\n",
       "  </tbody>\n",
       "</table>\n",
       "</div>"
      ],
      "text/plain": [
       "           0          1          2          3          4\n",
       "0   0.287613  11.843398 -23.111000 -26.784964  35.887831\n",
       "1 -12.942548  -9.288027 -29.954254  36.694911 -33.618653\n",
       "2 -11.743498  13.198859  17.154367  -9.360629  51.557494\n",
       "3   1.619156 -22.496186 -17.912477  36.132983  32.243452\n",
       "4   6.606882 -22.517781  23.364357  -3.593449 -24.734984"
      ]
     },
     "execution_count": 4,
     "metadata": {},
     "output_type": "execute_result"
    }
   ],
   "source": [
    "dataset = np.random.randn(100, 5)*30\n",
    "df_dataset = pd.DataFrame(dataset)\n",
    "df_dataset.head()"
   ]
  },
  {
   "cell_type": "code",
   "execution_count": 5,
   "metadata": {},
   "outputs": [
    {
     "data": {
      "text/plain": [
       "array([ 18879.7238798 ,  38543.80025093,   1664.30263516,  25498.57575526,\n",
       "        -1362.18909605])"
      ]
     },
     "execution_count": 5,
     "metadata": {},
     "output_type": "execute_result"
    }
   ],
   "source": [
    "X = np.array(dataset)\n",
    "Y = X[:,1] + 2*X[:,2] + 56*X[:,4] - X[:,2]*np.power(X[:,3], 2) + np.log(np.power(X[:,1], 100)) + 50*np.random.randn(100)\n",
    "Y[:5]"
   ]
  },
  {
   "cell_type": "markdown",
   "metadata": {},
   "source": [
    "### Normalization"
   ]
  },
  {
   "cell_type": "code",
   "execution_count": 6,
   "metadata": {},
   "outputs": [
    {
     "data": {
      "text/plain": [
       "array([ 0.22330444,  0.2638671 ,  0.18779282,  0.23695768,  0.18154983,\n",
       "        0.20482247,  0.18288122,  0.13844135,  0.18101974,  0.1846012 ])"
      ]
     },
     "execution_count": 6,
     "metadata": {},
     "output_type": "execute_result"
    }
   ],
   "source": [
    "# Normalization:\n",
    "scalatorX = preprocessing.MinMaxScaler()\n",
    "\n",
    "def scale(vector):\n",
    "    # Function to scale a vector to range [0 1]\n",
    "    maxs = np.max(vector)\n",
    "    mins = np.min(vector)\n",
    "    scaling = np.zeros(len(vector))\n",
    "    \n",
    "    for i in range(0, len(vector)):\n",
    "        scaling[i] = (vector[i] - mins) / (maxs - mins)\n",
    "    return scaling\n",
    "    \n",
    "def unScale(scal, unscal):\n",
    "    # Unscale function to a vector giving the scaled and an unscaled reference vector\n",
    "    maxs = np.max(unscal)\n",
    "    mins = np.min(unscal)\n",
    "    unscaling = np.zeros(len(scal))\n",
    "    \n",
    "    for i in range(0, len(scal)):    \n",
    "        unscaling[i] = scal[i] * (maxs-mins) + mins\n",
    "    return unscaling\n",
    "\n",
    "x = scalatorX.fit_transform(X)\n",
    "y = scale(Y)\n",
    "# y = scalatorY.fit_transform(Yreshape(-1, 1))\n",
    "\n",
    "# Normalization of test data:\n",
    "y[:10]"
   ]
  },
  {
   "cell_type": "markdown",
   "metadata": {},
   "source": [
    "### Divide into Train and Test Sets"
   ]
  },
  {
   "cell_type": "code",
   "execution_count": 29,
   "metadata": {},
   "outputs": [
    {
     "name": "stdout",
     "output_type": "stream",
     "text": [
      "x_train: (70, 5)\n",
      "x_test: (30, 5)\n",
      "y_train: (70, 1)\n",
      "y_test: (30, 1)\n"
     ]
    },
    {
     "data": {
      "text/plain": [
       "array([[ 0.        ],\n",
       "       [ 0.17994662],\n",
       "       [ 0.17904877],\n",
       "       [ 0.20482247],\n",
       "       [ 0.13782762],\n",
       "       [ 0.18860265],\n",
       "       [ 0.18621815],\n",
       "       [ 0.1854796 ],\n",
       "       [ 0.1232883 ],\n",
       "       [ 0.21130993]])"
      ]
     },
     "execution_count": 29,
     "metadata": {},
     "output_type": "execute_result"
    }
   ],
   "source": [
    "from sklearn.model_selection import train_test_split as split\n",
    "x_train, x_test, y_train, y_test = split(X, y, test_size=0.3, random_state=2017)\n",
    "y_train = y_train.reshape((-1,1))\n",
    "y_test = y_test.reshape((-1,1))\n",
    "print('x_train:', x_train.shape)\n",
    "print('x_test:',  x_test.shape)\n",
    "print('y_train:', y_train.shape)\n",
    "print('y_test:',  y_test.shape)\n",
    "y_test[:10]"
   ]
  },
  {
   "cell_type": "code",
   "execution_count": 30,
   "metadata": {},
   "outputs": [
    {
     "name": "stdout",
     "output_type": "stream",
     "text": [
      "trainX: (4, 2)\n",
      "testX: (4, 2)\n",
      "trainY: (4, 1)\n",
      "testY: (4, 1)\n"
     ]
    },
    {
     "data": {
      "text/plain": [
       "array([[ 70.],\n",
       "       [ 89.],\n",
       "       [ 85.],\n",
       "       [ 75.]])"
      ]
     },
     "execution_count": 30,
     "metadata": {},
     "output_type": "execute_result"
    }
   ],
   "source": [
    "trainX = np.array(([3,5], [5,1], [10,2], [6,1.5]), dtype=float)\n",
    "trainY = np.array(([75], [82], [93], [70]), dtype=float)\n",
    "\n",
    "# Testing Data:\n",
    "testX = np.array(([4, 5.5], [4.5,1], [9,2.5], [6, 2]), dtype=float)\n",
    "testY = np.array(([70], [89], [85], [75]), dtype=float)\n",
    "\n",
    "print('trainX:', trainX.shape)\n",
    "print('testX:',  testX.shape)\n",
    "print('trainY:', trainY.shape)\n",
    "print('testY:',  testY.shape)\n",
    "testY"
   ]
  },
  {
   "cell_type": "code",
   "execution_count": 31,
   "metadata": {
    "collapsed": true,
    "scrolled": true
   },
   "outputs": [],
   "source": [
    "NN = Neural_Network() # Create an object NN \n",
    "T = trainer(NN)       # Create an object trainer for that NN created\n",
    "T.train(x_train, y_train, x_test, y_test, 200) # Pass data and epochs to the training method"
   ]
  },
  {
   "cell_type": "markdown",
   "metadata": {},
   "source": [
    "## Visualize the results!"
   ]
  },
  {
   "cell_type": "code",
   "execution_count": 32,
   "metadata": {},
   "outputs": [
    {
     "data": {
      "image/png": "[encoded data removed]",
      "text/plain": [
       "<matplotlib.figure.Figure at 0x10ff8c400>"
      ]
     },
     "metadata": {},
     "output_type": "display_data"
    }
   ],
   "source": [
    "plt.plot(T.J, 'b-', label='Train set Loss')\n",
    "plt.plot(T.testJ, 'r-', label='Test set Loss')\n",
    "plt.grid(1)\n",
    "plt.xlabel('Epochs')\n",
    "plt.ylabel('Cost')\n",
    "plt.legend()\n",
    "plt.show()"
   ]
  },
  {
   "cell_type": "markdown",
   "metadata": {},
   "source": [
    "Note that it takes a lot of epochs to reduce the error (even we are in a range between 4-6%)  \n",
    "This can be improved if we declare a batch size for the inputs!   \n",
    "This means, that all the inputs in a batch are going to be computed, and then we will average the error and update the weights. This way, the weights are updated several times inside 1 epoch."
   ]
  },
  {
   "cell_type": "markdown",
   "metadata": {},
   "source": [
    "### Create the batches"
   ]
  },
  {
   "cell_type": "code",
   "execution_count": null,
   "metadata": {
    "collapsed": true
   },
   "outputs": [],
   "source": [
    "class trainer(object):\n",
    "     \n",
    "    def __init__(self, N):\n",
    "        # Reference the Neural Network that will be trained:\n",
    "        self.N = N\n",
    "\n",
    "    def callbackF(self, W1, W2):\n",
    "        # Callback function to track the J as we train the NN\n",
    "        self.N.setWeights(W1, W2)                                      # Set the new parameters coming from training\n",
    "        self.J.append(self.N.costFunction(self.X, self.y))             # Insert new value of Cost to the Cost vector\n",
    "        self.testJ.append(self.N.costFunction(self.testX, self.testY)) # Insert new value of Test-Cost to the Test-Cost vector\n",
    "\n",
    "    def updateWeigths(self, W1, W2, grad1, grad2):\n",
    "        W1 = W1 - self.learning_rate * grad1\n",
    "        W2 = W2 - self.learning_rate * grad2\n",
    "        return W1, W2\n",
    "    \n",
    "    def bucketize(vector, bucket_size):\n",
    "        x = \n",
    "        \n",
    "    def train(self, trainX, trainY, testX, testY, epochs, batch_size, learning_rate=0.01):\n",
    "        # Make internal variables for callback function\n",
    "        self.epochs = range(epochs)\n",
    "        self.learning_rate = learning_rate\n",
    "        self.batch_size = batch_size\n",
    "        \n",
    "        self.X = trainX\n",
    "        self.y = trainY\n",
    "        self.testX = testX\n",
    "        self.testY = testY\n",
    "        \n",
    "\n",
    "        #Make empty list to store the costs:\n",
    "        self.J     = []\n",
    "        self.testJ = []\n",
    "\n",
    "        for epoch in self.epochs:\n",
    "            cost = self.N.costFunction(self.X, self.y)\n",
    "            grad1, grad2 = self.N.computeGradients(self.X, self.y)\n",
    "            W1, W2 = self.N.getWeights()\n",
    "            W1, W2 = self.updateWeigths(W1, W2, grad1, grad2)            \n",
    "            # Update the weights\n",
    "            self.N.setWeights(W1, W2)\n",
    "            self.callbackF(W1, W2)\n"
   ]
  },
  {
   "cell_type": "markdown",
   "metadata": {},
   "source": [
    "## Regularization -- Solve overfitting problem"
   ]
  },
  {
   "cell_type": "markdown",
   "metadata": {},
   "source": [
    "Regularization is a simple technique that penalize complex model, helping us to avoid overfitting. \n",
    "\n",
    "Note how we are going to insert a little term into our cost function, and therefore, in its derived."
   ]
  },
  {
   "cell_type": "code",
   "execution_count": null,
   "metadata": {
    "collapsed": true
   },
   "outputs": [],
   "source": [
    "class Neural_Network_Regularized(object):\n",
    "    \n",
    "    def __init__(self, Lambda=0):\n",
    "        # Define Hyperparamethers\n",
    "        self.inputLayerSize = 2  # trainX.shape[1] = 2\n",
    "        self.hiddenLayerSize = 3\n",
    "        self.outputLayerSize = 1 \n",
    "\n",
    "        # Weights initialization \n",
    "        self.W1 = np.random.randn(self.inputLayerSize, self.hiddenLayerSize)\n",
    "        self.W2 = np.random.randn(self.hiddenLayerSize, self.outputLayerSize)  \n",
    "        \n",
    "        # Regularization Parameter:\n",
    "        self.Lambda = Lambda\n",
    "            \n",
    "    def forward(self, X):\n",
    "        # Propagate inputs through neurons\n",
    "        self.z2 = np.dot(X, self.W1)\n",
    "        self.a2 = self.sigmoid(self.z2)\n",
    "        self.z3 = np.dot(self.a2, self.W2)\n",
    "        yHat = self.sigmoid(self.z3)\n",
    "        return yHat\n",
    "\n",
    "    def sigmoid(self, z):   \n",
    "        # Sigmoid activaction function\n",
    "        return 1 / (1+np.exp(-z))\n",
    "\n",
    "    def dSigmoid(self, z):\n",
    "        # Derivative of sigmoid function\n",
    "        return np.exp(-z)/((1+np.exp(-z))**2)\n",
    "    \n",
    "    def relu(self, z):\n",
    "        # Rectifier Linear Unit activaction funciton\n",
    "        return np.max(0, z)\n",
    "\n",
    "    def dRelu(self, z):\n",
    "        # Derivative of sigmoid function\n",
    "        if z > 0: return 1\n",
    "        else: return 0\n",
    "        \n",
    "    def costFunction(self, X, y):\n",
    "        # Compute the Cost Function using weights already stored in clas\n",
    "        self.yHat = self.forward(X)\n",
    "        \n",
    "        J = np.sum((y-self.yHat)**2) / X.shape[0] + (self.Lambda/2) * (np.sum(self.W1**2) + np.sum(self.W2**2))\n",
    "        return J     \n",
    "\n",
    "    def dCostFunction(self, X, y):\n",
    "        # Compute derivative with respect to W1 and W2\n",
    "        self.yHat = self.forward(X)\n",
    "\n",
    "        delta3 = np.multiply(-(y-self.yHat), self.dSigmoid(self.z3))\n",
    "        dJdW2 = np.dot(self.a2.T, delta3) / X.shape[0] + self.Lambda*self.W2\n",
    "\n",
    "        delta2 = np.dot(delta3, self.W2.T)*self.dSigmoid(self.z2)\n",
    "        dJdW1 = np.dot(X.T, delta2) / X.shape[0] + self.Lambda*self.W1\n",
    "\n",
    "        return dJdW1, dJdW2\n",
    "\n",
    "    # Helper functions for interacting with other classes\n",
    "    def getParameters(self):\n",
    "        # Get W1 and W2\n",
    "        parameters = np.concatenate((self.W1.ravel(), self.W2.ravel()))\n",
    "        return parameters\n",
    "    \n",
    "    def setParameters(self, parameters):\n",
    "        # Update the weights W1 and W2. ''Note we are passing 1D vector, we'll need to reshape\n",
    "        W1_start = 0\n",
    "        W1_end = self.hiddenLayerSize * self.inputLayerSize\n",
    "        self.W1 = np.reshape(parameters[W1_start:W1_end], (self.inputLayerSize, self.hiddenLayerSize))\n",
    "\n",
    "        W2_end = W1_end + self.hiddenLayerSize * self.outputLayerSize\n",
    "        self.W2 = np.reshape(parameters[W1_end:W2_end], (self.hiddenLayerSize, self.outputLayerSize))\n",
    "\n",
    "    def computeGradients(self, X, y):\n",
    "        dJdW1, dJdW2 = self.dCostFunction(X, y)\n",
    "        return np.concatenate((dJdW1.ravel(), dJdW2.ravel()))"
   ]
  },
  {
   "cell_type": "code",
   "execution_count": null,
   "metadata": {
    "collapsed": true
   },
   "outputs": [],
   "source": [
    "NN = Neural_Network_Regularized(Lambda=0.0001)\n",
    "T = trainer(NN)\n",
    "T.train(trainX, trainY, testX, testY, 200) # Pass data and epochs to the training method"
   ]
  },
  {
   "cell_type": "code",
   "execution_count": null,
   "metadata": {
    "collapsed": true
   },
   "outputs": [],
   "source": [
    "plt.plot(T.J, 'b-', label='Train set Loss')\n",
    "plt.plot(T.testJ, 'r-', label='Test set Loss')\n",
    "plt.grid(1)\n",
    "plt.xlabel('Iterations')\n",
    "plt.ylabel('Cost')\n",
    "plt.legend()\n",
    "plt.show()"
   ]
  },
  {
   "cell_type": "code",
   "execution_count": null,
   "metadata": {
    "collapsed": true
   },
   "outputs": [],
   "source": []
  }
 ],
 "metadata": {
  "kernelspec": {
   "display_name": "Python 3",
   "language": "python",
   "name": "python3"
  },
  "language_info": {
   "codemirror_mode": {
    "name": "ipython",
    "version": 3
   },
   "file_extension": ".py",
   "mimetype": "text/x-python",
   "name": "python",
   "nbconvert_exporter": "python",
   "pygments_lexer": "ipython3",
   "version": "3.6.3"
  }
 },
 "nbformat": 4,
 "nbformat_minor": 2
}
